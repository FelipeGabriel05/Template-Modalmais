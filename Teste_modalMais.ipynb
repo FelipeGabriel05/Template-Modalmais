{
 "cells": [
  {
   "cell_type": "code",
   "execution_count": 1,
   "id": "30602b87",
   "metadata": {},
   "outputs": [],
   "source": [
    "import pdfplumber"
   ]
  },
  {
   "cell_type": "code",
   "execution_count": 10,
   "id": "40a952bb",
   "metadata": {},
   "outputs": [
    {
     "name": "stdout",
     "output_type": "stream",
     "text": [
      "{'Nr_Nota': '490254', 'Folha': '1', 'Data_pregao': '11/01/2019'}\n"
     ]
    }
   ],
   "source": [
    "with pdfplumber.open('Modalmais.pdf') as pdf:\n",
    "    page = pdf.pages[2]\n",
    "    all_text  = ''\n",
    "    texto = page.extract_text()\n",
    "    for row in texto:\n",
    "        all_text += texto\n",
    "    row = all_text.split('\\n')\n",
    "    titulos = row[2].split()\n",
    "    obj_titulos = {\n",
    "        \"Nr_Nota\": titulos[0],\n",
    "        \"Folha\": titulos[1],\n",
    "        \"Data_pregao\": titulos[2]\n",
    "    }\n",
    "    print(obj_titulos)"
   ]
  },
  {
   "cell_type": "code",
   "execution_count": 23,
   "id": "e111d3ee",
   "metadata": {},
   "outputs": [
    {
     "name": "stdout",
     "output_type": "stream",
     "text": [
      "{'Corretora': 'MODAL DTVM LTDA', 'Telefone_corretora': '(21) 3223-7700', 'CNPJ': '05.389.174/0001-01', 'Endereco_corretora': ' PRAIA DE BOTAFOGO, 501 6º ANDAR BOTAFOGO 22250-040 RIO DE JANEIRO RJ', 'Internet': 'http://www.modalmais.com.br', 'Email': 'atendimento@modalmais.com.br', 'Numero_da_corretora': '1982-8', 'Telefone_Ouvidoria': '0800-283-0077', 'Email_Ouvidoria': 'ouvidoria@modalmais.com.br'}\n"
     ]
    }
   ],
   "source": [
    "        info_banco_1 = row[4].split()\n",
    "        info_banco_2 = row[5].split()\n",
    "        endereco = ''\n",
    "        total = 0\n",
    "        while total <= len(info_banco_2) - 4:\n",
    "            endereco += f\" {info_banco_2[total]}\"\n",
    "            total += 1\n",
    "        info_banco_3 = row[6].split()\n",
    "        info_banco_4 = row[7].split()\n",
    "\n",
    "        obj_titulos2 = {\n",
    "            \"Corretora\": f\"{info_banco_1[0]} {info_banco_1[1]} {info_banco_1[2]}\",\n",
    "            \"Telefone_corretora\": f\"{info_banco_1[-3]} {info_banco_1[-2]}\",\n",
    "            \"CNPJ\": info_banco_1[-1],\n",
    "            \"Endereco_corretora\": endereco,\n",
    "            \"Internet\": info_banco_3[1],\n",
    "            \"Email\": info_banco_3[3],\n",
    "            \"Numero_da_corretora\": info_banco_3[4],\n",
    "            \"Telefone_Ouvidoria\": info_banco_4[2],\n",
    "            \"Email_Ouvidoria\": info_banco_4[5]\n",
    "        }\n",
    "        print(obj_titulos2)"
   ]
  },
  {
   "cell_type": "code",
   "execution_count": 61,
   "id": "deafabac",
   "metadata": {},
   "outputs": [
    {
     "name": "stdout",
     "output_type": "stream",
     "text": [
      "{'Cliente': 'ALINE GARCIA DE MATOS', 'Endereco_cliente': 'RUA QUINZE DE NOVEMBRO, 209 - 24020-125 CENTRO NITEROI - RJ', 'CNPJ_ou_CPF': '34826838832', 'Codigo_do_cliente': '49516'}\n"
     ]
    },
    {
     "data": {
      "image/png": "[encoded data removed]",
      "text/plain": [
       "<pdfplumber.display.PageImage at 0x19255b5c110>"
      ]
     },
     "execution_count": 61,
     "metadata": {},
     "output_type": "execute_result"
    }
   ],
   "source": [
    "with pdfplumber.open('Modalmais.pdf') as pdf:\n",
    "    page = pdf.pages[0]\n",
    "    coluna_cliente = page.crop((20, 150, page.width, 200))\n",
    "    cliente_settings = {\n",
    "        \"vertical_strategy\": \"lines\",\n",
    "        \"horizontal_strategy\": \"explicit\",\n",
    "        \"explicit_horizontal_lines\": [160, 170, 181, 194],\n",
    "        \"explicit_vertical_lines\": [22, 470, 575]\n",
    "    }\n",
    "    cliente_dados = coluna_cliente.extract_table(cliente_settings)\n",
    "    obj_cliente = {\n",
    "        \"Cliente\": cliente_dados[0][0],\n",
    "        \"Endereco_cliente\": f\"{cliente_dados[1][0]} {cliente_dados[2][0]}\",\n",
    "        \"CNPJ_ou_CPF\": cliente_dados[0][2],\n",
    "        \"Codigo_do_cliente\": cliente_dados[2][2]\n",
    "    }\n",
    "im = coluna_cliente.to_image()\n",
    "im.draw_vlines([22, 470, 575])\n",
    "im.draw_hlines([160, 170, 181, 194])"
   ]
  },
  {
   "cell_type": "code",
   "execution_count": 7,
   "id": "68deebd8",
   "metadata": {
    "scrolled": true
   },
   "outputs": [
    {
     "name": "stdout",
     "output_type": "stream",
     "text": [
      "{'obj_negocio_0': {'C_V': 'C', 'Mercadoria': 'WDO G19', 'Vencimento': '01/02/2019', 'Quantidade': '1,00', 'Preco_Ajuste': '3.712,50', 'Tipo_do_negocio': 'DAY TRADE', 'Vlr_de_Operacao_Ajuste': '171,28', 'D_C': 'D', 'Taxa_Operacional': '0,05'}, 'obj_negocio_1': {'C_V': 'V', 'Mercadoria': 'WDO G19', 'Vencimento': '01/02/2019', 'Quantidade': '1,00', 'Preco_Ajuste': '3.713,00', 'Tipo_do_negocio': 'DAY TRADE', 'Vlr_de_Operacao_Ajuste': '176,28', 'D_C': 'C', 'Taxa_Operacional': '0,05'}, 'obj_negocio_2': {'C_V': 'V', 'Mercadoria': 'WDO G19', 'Vencimento': '01/02/2019', 'Quantidade': '1,00', 'Preco_Ajuste': '3.689,00', 'Tipo_do_negocio': 'DAY TRADE', 'Vlr_de_Operacao_Ajuste': '63,72', 'D_C': 'D', 'Taxa_Operacional': '0,05'}, 'obj_negocio_3': {'C_V': 'C', 'Mercadoria': 'WDO G19', 'Vencimento': '01/02/2019', 'Quantidade': '1,00', 'Preco_Ajuste': '3.694,00', 'Tipo_do_negocio': 'DAY TRADE', 'Vlr_de_Operacao_Ajuste': '13,72', 'D_C': 'C', 'Taxa_Operacional': '0,05'}}\n"
     ]
    }
   ],
   "source": [
    "with pdfplumber.open('Modalmais.pdf') as pdf:\n",
    "    page = pdf.pages[0]\n",
    "    coluna_negocios = page.crop((20, 215, page.width, 530))\n",
    "    negocios_settings = {\n",
    "        \"vertical_strategy\": \"explicit\",\n",
    "        \"horizontal_strategy\": \"text\",\n",
    "        \"explicit_vertical_lines\": [25, 35, 100, 175, 230, 290, 380, 480, 500, 580]\n",
    "    }\n",
    "    negocios = coluna_negocios.extract_table(negocios_settings)\n",
    "    i = 0\n",
    "    teste = {}\n",
    "    while i <= len(negocios) - 1:\n",
    "        obj_negocio = {\n",
    "                \"C_V\": negocios[i][0],\n",
    "                \"Mercadoria\": negocios[i][1],\n",
    "                \"Vencimento\": negocios[i][2],\n",
    "                \"Quantidade\": negocios[i][3],\n",
    "                \"Preco_Ajuste\": negocios[i][4],\n",
    "                \"Tipo_do_negocio\": negocios[i][5],\n",
    "                \"Vlr_de_Operacao_Ajuste\": negocios[i][6],\n",
    "                \"D_C\": negocios[i][7],\n",
    "                \"Taxa_Operacional\": negocios[i][8],\n",
    "            }\n",
    "        teste[f\"obj_negocio_{i}\"] = obj_negocio\n",
    "        i += 1\n",
    "    print(teste)\n",
    "#im = coluna_negocios.to_image()\n",
    "#im.draw_vlines([25, 35, 100, 175, 230, 290, 380, 480, 500, 580])"
   ]
  },
  {
   "cell_type": "code",
   "execution_count": 246,
   "id": "13d16052",
   "metadata": {
    "scrolled": true
   },
   "outputs": [
    {
     "name": "stdout",
     "output_type": "stream",
     "text": [
      "{'Vendas_disponivel': '0,00', 'Compra_disponivel': '0,00', 'Venda_opcoes': '0,00', 'Compra_opcoes': '0,00', 'Valor_dos_negocios': '45,00 | D', 'IRRF': '0,00', 'IRRF_day_trade': '0,00', 'Taxa_operacional': '0,20', 'Taxa_registro_BMF': '1,00', 'Taxa_BMF': '0,92', 'Outros_Custos': '0,00', 'ISS': '0,00', 'Ajuste_de_posicao': '0,00 | -', 'Ajuste_Day_Trade': '45,00 | D', 'Total_das_despesas': '2,12 | C', 'Outros': '0,00', 'IRRF_Corretagem': '0,00', 'Total_Conta_Investimento': '0,00 | C', 'Total_Conta_Normal': '47,12 | D', 'Total_liquido': '0,00 | C', 'Total_liquido_da_nota': '47,12 | D'}\n"
     ]
    },
    {
     "data": {
      "image/png": "[encoded data removed]",
      "text/plain": [
       "<pdfplumber.display.PageImage at 0x1926f2643d0>"
      ]
     },
     "execution_count": 246,
     "metadata": {},
     "output_type": "execute_result"
    }
   ],
   "source": [
    "with pdfplumber.open('Modalmais.pdf') as pdf:\n",
    "    page = pdf.pages[0]\n",
    "    coluna_inferior = page.crop((10, 540, page.width, 645))\n",
    "    table_settings = {\n",
    "        \"vertical_strategy\": \"explicit\",\n",
    "        \"horizontal_strategy\": \"text\",\n",
    "        \"explicit_vertical_lines\": [44, 57, 128, 148, 220, \n",
    "                236, 246, 276, 371, 466, 576],\n",
    "        \"explicit_horizontal_lines\": [560, 570, 580, 590, 608, 620, 630]\n",
    "    }\n",
    "    resumo = coluna_inferior.extract_table(table_settings)\n",
    "    obj_resumo = {\n",
    "        \"Vendas_disponivel\": resumo[2][2],\n",
    "        \"Compra_disponivel\": resumo[2][6],\n",
    "        \"Venda_opcoes\": resumo[2][7],\n",
    "        \"Compra_opcoes\": resumo[2][8],\n",
    "        \"Valor_dos_negocios\": resumo[2][9],\n",
    "        \"IRRF\": resumo[6][2],\n",
    "        \"IRRF_day_trade\": resumo[6][6],\n",
    "        \"Taxa_operacional\": resumo[6][7],\n",
    "        \"Taxa_registro_BMF\": resumo[6][8],\n",
    "        \"Taxa_BMF\": resumo[6][9],\n",
    "        \"Outros_Custos\": resumo[10][4],\n",
    "        \"ISS\": resumo[10][6],\n",
    "        \"Ajuste_de_posicao\": resumo[10][7],\n",
    "        \"Ajuste_Day_Trade\": resumo[10][8],\n",
    "        \"Total_das_despesas\": resumo[10][9],\n",
    "        \"Outros\": resumo[13][0],\n",
    "        \"IRRF_Corretagem\": resumo[13][2],\n",
    "        \"Total_Conta_Investimento\": resumo[13][6],\n",
    "        \"Total_Conta_Normal\": resumo[13][7],\n",
    "        \"Total_liquido\": resumo[13][8],\n",
    "        \"Total_liquido_da_nota\": resumo[13][9],\n",
    "    }\n",
    "    print(obj_resumo)\n",
    "im = coluna_inferior.to_image()\n",
    "im.draw_vlines([44, 57, 128, 148, 220, \n",
    "                236, 246, 276, 371, 466, 576])\n",
    "im.draw_hlines([560, 570, 580, 590, 608, 620, 630])"
   ]
  },
  {
   "cell_type": "code",
   "execution_count": null,
   "id": "d32ad97a",
   "metadata": {},
   "outputs": [],
   "source": [
    "dict = {\n",
    "    \"carro\": \"vermelho\",\n",
    "    \"modelo\": \"chevet\"\n",
    "}\n",
    "\n",
    "dict_1 = {\n",
    "    \"ano\": 2019,\n",
    "    \"dados_do_carro\": dict\n",
    "}\n",
    "print(dict_1)"
   ]
  }
 ],
 "metadata": {
  "kernelspec": {
   "display_name": "Python 3 (ipykernel)",
   "language": "python",
   "name": "python3"
  },
  "language_info": {
   "codemirror_mode": {
    "name": "ipython",
    "version": 3
   },
   "file_extension": ".py",
   "mimetype": "text/x-python",
   "name": "python",
   "nbconvert_exporter": "python",
   "pygments_lexer": "ipython3",
   "version": "3.11.4"
  }
 },
 "nbformat": 4,
 "nbformat_minor": 5
}
